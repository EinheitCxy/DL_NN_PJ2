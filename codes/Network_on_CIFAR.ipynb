{
 "cells": [
  {
   "cell_type": "code",
   "execution_count": 1,
   "metadata": {},
   "outputs": [],
   "source": [
    "import torch\n",
    "import torch.nn as nn\n",
    "import torch.optim as optim\n",
    "import torchvision\n",
    "import torchvision.transforms as transforms\n",
    "from torch.utils.data import DataLoader\n",
    "import matplotlib.pyplot as plt\n",
    "import numpy as np\n",
    "from tqdm import tqdm\n",
    "import os\n",
    "import time\n",
    "from dataclasses import dataclass"
   ]
  },
  {
   "cell_type": "code",
   "execution_count": 4,
   "metadata": {},
   "outputs": [
    {
     "data": {
      "text/plain": [
       "'/Users/ahs/Library/Mobile Documents/com~apple~CloudDocs/深度学习与神经网络/PJ2/codes'"
      ]
     },
     "execution_count": 4,
     "metadata": {},
     "output_type": "execute_result"
    }
   ],
   "source": [
    "pwd"
   ]
  },
  {
   "cell_type": "code",
   "execution_count": 5,
   "metadata": {},
   "outputs": [],
   "source": [
    "@dataclass\n",
    "class TrainingConfig:\n",
    "    batch_size: int = 128\n",
    "    num_epochs: int = 50\n",
    "    learning_rate: float = 0.001\n",
    "    weight_decay: float = 1e-4\n",
    "    data_path: str = 'data'\n",
    "    checkpoint_dir: str = 'checkpoints'\n",
    "    num_workers: int = 2\n",
    "\n",
    "def set_seed(seed=42):\n",
    "    \"\"\"设置随机种子以确保可重复性\"\"\"\n",
    "    torch.manual_seed(seed)\n",
    "    torch.cuda.manual_seed_all(seed)\n",
    "    np.random.seed(seed)\n",
    "    torch.backends.cudnn.deterministic = True\n",
    "\n",
    "def get_device():\n",
    "    \"\"\"获取可用的设备\"\"\"\n",
    "    if torch.backends.mps.is_available():\n",
    "        device = torch.device('mps')\n",
    "        print('Using MPS (Metal Performance Shaders)')\n",
    "    elif torch.cuda.is_available():\n",
    "        device = torch.device('cuda')\n",
    "        print('Using CUDA')\n",
    "    else:\n",
    "        device = torch.device('cpu')\n",
    "        print('Using CPU')\n",
    "    return device\n",
    "\n",
    "def get_transforms():\n",
    "    \"\"\"获取数据预处理转换\"\"\"\n",
    "    transform_train = transforms.Compose([\n",
    "        transforms.RandomCrop(32, padding=4),\n",
    "        transforms.RandomHorizontalFlip(),\n",
    "        transforms.ToTensor(),\n",
    "        transforms.Normalize((0.5, 0.5, 0.5), (0.5, 0.5, 0.5))\n",
    "    ])\n",
    "    \n",
    "    transform_test = transforms.Compose([\n",
    "        transforms.ToTensor(),\n",
    "        transforms.Normalize((0.5, 0.5, 0.5), (0.5, 0.5, 0.5))\n",
    "    ])\n",
    "    \n",
    "    return transform_train, transform_test\n",
    "\n",
    "def load_data(config: TrainingConfig):\n",
    "    \"\"\"加载数据集\"\"\"\n",
    "    transform_train, transform_test = get_transforms()\n",
    "    \n",
    "    trainset = torchvision.datasets.CIFAR10(\n",
    "        root=config.data_path, \n",
    "        train=True, \n",
    "        download=False,\n",
    "        transform=transform_train)\n",
    "    \n",
    "    trainloader = DataLoader(\n",
    "        trainset, \n",
    "        batch_size=config.batch_size, \n",
    "        shuffle=True, \n",
    "        num_workers=config.num_workers)\n",
    "    \n",
    "    testset = torchvision.datasets.CIFAR10(\n",
    "        root=config.data_path, \n",
    "        train=False, \n",
    "        download=False,\n",
    "        transform=transform_test)\n",
    "    testloader = DataLoader(\n",
    "        testset, \n",
    "        batch_size=config.batch_size, \n",
    "        shuffle=False, \n",
    "        num_workers=config.num_workers)\n",
    "    \n",
    "    return trainloader, testloader\n",
    "\n",
    "def generate_alexnet():\n",
    "    \"\"\"生成AlexNet模型\"\"\"\n",
    "    return nn.Sequential(\n",
    "        # 第一层卷积：32x32 -> 16x16\n",
    "        nn.Conv2d(3, 64, kernel_size=3, stride=1, padding=1), nn.ReLU(),\n",
    "        nn.MaxPool2d(kernel_size=2, stride=2),\n",
    "        \n",
    "        # 第二层卷积：16x16 -> 8x8\n",
    "        nn.Conv2d(64, 128, kernel_size=3, stride=1, padding=1), nn.ReLU(),\n",
    "        nn.MaxPool2d(kernel_size=2, stride=2),\n",
    "        \n",
    "        # 第三层卷积：8x8 -> 4x4\n",
    "        nn.Conv2d(128, 256, kernel_size=3, stride=1, padding=1), nn.ReLU(),\n",
    "        nn.MaxPool2d(kernel_size=2, stride=2),\n",
    "        \n",
    "        # 第四层卷积：4x4 -> 4x4\n",
    "        nn.Conv2d(256, 512, kernel_size=3, stride=1, padding=1), nn.ReLU(),\n",
    "        \n",
    "        # 第五层卷积：4x4 -> 2x2\n",
    "        nn.Conv2d(512, 512, kernel_size=3, stride=1, padding=1), nn.ReLU(),\n",
    "        nn.MaxPool2d(kernel_size=2, stride=2),\n",
    "        \n",
    "        nn.Flatten(),\n",
    "        # 2x2x512 = 2048\n",
    "        nn.Linear(2048, 1024), nn.ReLU(),\n",
    "        nn.Dropout(p=0.5),\n",
    "        nn.Linear(1024, 512), nn.ReLU(),\n",
    "        nn.Dropout(p=0.5),\n",
    "        nn.Linear(512, 10)\n",
    "    )\n",
    "\n",
    "def train_epoch(model, train_loader, criterion, optimizer, device):\n",
    "    \"\"\"训练一个epoch\"\"\"\n",
    "    model.train()\n",
    "    running_loss = 0.0\n",
    "    correct = 0\n",
    "    total = 0\n",
    "    \n",
    "    pbar = tqdm(train_loader, desc='Training')\n",
    "    for inputs, targets in pbar:\n",
    "        inputs, targets = inputs.to(device), targets.to(device)\n",
    "        \n",
    "        optimizer.zero_grad()\n",
    "        outputs = model(inputs)\n",
    "        loss = criterion(outputs, targets)\n",
    "        loss.backward()\n",
    "        optimizer.step()\n",
    "        \n",
    "        running_loss += loss.item()\n",
    "        _, predicted = outputs.max(1)\n",
    "        total += targets.size(0)\n",
    "        correct += predicted.eq(targets).sum().item()\n",
    "        \n",
    "        pbar.set_postfix({'loss': running_loss/total, 'acc': 100.*correct/total})\n",
    "    \n",
    "    return running_loss/len(train_loader), 100.*correct/total\n",
    "\n",
    "def validate(model, val_loader, criterion, device):\n",
    "    \"\"\"验证模型\"\"\"\n",
    "    model.eval()\n",
    "    running_loss = 0.0\n",
    "    correct = 0\n",
    "    total = 0\n",
    "    \n",
    "    with torch.no_grad():\n",
    "        for inputs, targets in val_loader:\n",
    "            inputs, targets = inputs.to(device), targets.to(device)\n",
    "            outputs = model(inputs)\n",
    "            loss = criterion(outputs, targets)\n",
    "            \n",
    "            running_loss += loss.item()\n",
    "            _, predicted = outputs.max(1)\n",
    "            total += targets.size(0)\n",
    "            correct += predicted.eq(targets).sum().item()\n",
    "    \n",
    "    return running_loss/len(val_loader), 100.*correct/total\n",
    "\n",
    "def plot_training_curves(train_losses, train_accs, val_losses, val_accs):\n",
    "    \"\"\"绘制训练曲线\"\"\"\n",
    "    plt.figure(figsize=(12, 4))\n",
    "    \n",
    "    plt.subplot(1, 2, 1)\n",
    "    plt.plot(train_losses, label='Train Loss')\n",
    "    plt.plot(val_losses, label='Val Loss')\n",
    "    plt.xlabel('Epoch')\n",
    "    plt.ylabel('Loss')\n",
    "    plt.legend()\n",
    "    \n",
    "    plt.subplot(1, 2, 2)\n",
    "    plt.plot(train_accs, label='Train Acc')\n",
    "    plt.plot(val_accs, label='Val Acc')\n",
    "    plt.xlabel('Epoch')\n",
    "    plt.ylabel('Accuracy (%)')\n",
    "    plt.legend()\n",
    "    \n",
    "    plt.tight_layout()\n",
    "    plt.savefig('training_curves.png')\n",
    "    plt.close()\n",
    "\n",
    "def save_checkpoint(model, optimizer, epoch, val_acc, config: TrainingConfig):\n",
    "    \"\"\"保存检查点\"\"\"\n",
    "    if not os.path.exists(config.checkpoint_dir):\n",
    "        os.makedirs(config.checkpoint_dir)\n",
    "    \n",
    "    torch.save({\n",
    "        'epoch': epoch,\n",
    "        'model_state_dict': model.state_dict(),\n",
    "        'optimizer_state_dict': optimizer.state_dict(),\n",
    "        'val_acc': val_acc,\n",
    "    }, f'{config.checkpoint_dir}/best_model.pth')\n",
    "\n",
    "def train(config: TrainingConfig):\n",
    "    \"\"\"主训练函数\"\"\"\n",
    "    # 设置设备\n",
    "    device = get_device()\n",
    "    \n",
    "    # 设置随机种子\n",
    "    set_seed()\n",
    "    \n",
    "    # 加载数据\n",
    "    trainloader, testloader = load_data(config)\n",
    "    \n",
    "    # 创建模型\n",
    "    model = generate_alexnet().to(device)\n",
    "    \n",
    "    # 定义损失函数和优化器\n",
    "    criterion = nn.CrossEntropyLoss()\n",
    "    optimizer = optim.Adam(model.parameters(), lr=config.learning_rate, weight_decay=config.weight_decay)\n",
    "    scheduler = optim.lr_scheduler.ReduceLROnPlateau(\n",
    "        optimizer, mode='max', factor=0.5, patience=5)\n",
    "    \n",
    "    # 训练记录\n",
    "    train_losses = []\n",
    "    train_accs = []\n",
    "    val_losses = []\n",
    "    val_accs = []\n",
    "    best_acc = 0\n",
    "    \n",
    "    # 训练循环\n",
    "    for epoch in range(config.num_epochs):\n",
    "        print(f'\\nEpoch {epoch+1}/{config.num_epochs}')\n",
    "        \n",
    "        # 训练\n",
    "        train_loss, train_acc = train_epoch(\n",
    "            model, trainloader, criterion, optimizer, device)\n",
    "        \n",
    "        # 验证\n",
    "        val_loss, val_acc = validate(model, testloader, criterion, device)\n",
    "        \n",
    "        # 更新学习率\n",
    "        old_lr = optimizer.param_groups[0]['lr']\n",
    "        scheduler.step(val_acc)\n",
    "        new_lr = optimizer.param_groups[0]['lr']\n",
    "        if new_lr != old_lr:\n",
    "            print(f'Learning rate changed from {old_lr:.6f} to {new_lr:.6f}')\n",
    "        \n",
    "        # 记录结果\n",
    "        train_losses.append(train_loss)\n",
    "        train_accs.append(train_acc)\n",
    "        val_losses.append(val_loss)\n",
    "        val_accs.append(val_acc)\n",
    "        \n",
    "        # 保存最佳模型\n",
    "        if val_acc > best_acc:\n",
    "            best_acc = val_acc\n",
    "            save_checkpoint(model, optimizer, epoch, val_acc, config)\n",
    "        \n",
    "        print(f'Train Loss: {train_loss:.4f}, Train Acc: {train_acc:.2f}%')\n",
    "        print(f'Val Loss: {val_loss:.4f}, Val Acc: {val_acc:.2f}%')\n",
    "    \n",
    "    # 绘制训练曲线\n",
    "    plot_training_curves(train_losses, train_accs, val_losses, val_accs)"
   ]
  },
  {
   "cell_type": "code",
   "execution_count": 6,
   "metadata": {},
   "outputs": [
    {
     "name": "stdout",
     "output_type": "stream",
     "text": [
      "Using MPS (Metal Performance Shaders)\n",
      "\n",
      "Epoch 1/50\n"
     ]
    },
    {
     "name": "stderr",
     "output_type": "stream",
     "text": [
      "Training: 100%|██████████| 391/391 [00:50<00:00,  7.76it/s, loss=0.0145, acc=27.2]\n"
     ]
    },
    {
     "name": "stdout",
     "output_type": "stream",
     "text": [
      "Train Loss: 1.8570, Train Acc: 27.16%\n",
      "Val Loss: 1.5874, Val Acc: 40.12%\n",
      "\n",
      "Epoch 2/50\n"
     ]
    },
    {
     "name": "stderr",
     "output_type": "stream",
     "text": [
      "Training: 100%|██████████| 391/391 [00:40<00:00,  9.65it/s, loss=0.0112, acc=46.6]\n"
     ]
    },
    {
     "name": "stdout",
     "output_type": "stream",
     "text": [
      "Train Loss: 1.4383, Train Acc: 46.65%\n",
      "Val Loss: 1.2480, Val Acc: 53.91%\n",
      "\n",
      "Epoch 3/50\n"
     ]
    },
    {
     "name": "stderr",
     "output_type": "stream",
     "text": [
      "Training: 100%|██████████| 391/391 [00:40<00:00,  9.56it/s, loss=0.00949, acc=56.5]\n"
     ]
    },
    {
     "name": "stdout",
     "output_type": "stream",
     "text": [
      "Train Loss: 1.2130, Train Acc: 56.49%\n",
      "Val Loss: 1.0800, Val Acc: 61.25%\n",
      "\n",
      "Epoch 4/50\n"
     ]
    },
    {
     "name": "stderr",
     "output_type": "stream",
     "text": [
      "Training: 100%|██████████| 391/391 [00:40<00:00,  9.72it/s, loss=0.00837, acc=62]  \n"
     ]
    },
    {
     "name": "stdout",
     "output_type": "stream",
     "text": [
      "Train Loss: 1.0703, Train Acc: 62.05%\n",
      "Val Loss: 0.9537, Val Acc: 66.12%\n",
      "\n",
      "Epoch 5/50\n"
     ]
    },
    {
     "name": "stderr",
     "output_type": "stream",
     "text": [
      "Training: 100%|██████████| 391/391 [00:41<00:00,  9.45it/s, loss=0.00756, acc=66.2]\n"
     ]
    },
    {
     "name": "stdout",
     "output_type": "stream",
     "text": [
      "Train Loss: 0.9666, Train Acc: 66.19%\n",
      "Val Loss: 0.8877, Val Acc: 68.68%\n",
      "\n",
      "Epoch 6/50\n"
     ]
    },
    {
     "name": "stderr",
     "output_type": "stream",
     "text": [
      "Training: 100%|██████████| 391/391 [00:45<00:00,  8.63it/s, loss=0.00699, acc=69.4]\n"
     ]
    },
    {
     "name": "stdout",
     "output_type": "stream",
     "text": [
      "Train Loss: 0.8936, Train Acc: 69.36%\n",
      "Val Loss: 0.8383, Val Acc: 71.24%\n",
      "\n",
      "Epoch 7/50\n"
     ]
    },
    {
     "name": "stderr",
     "output_type": "stream",
     "text": [
      "Training: 100%|██████████| 391/391 [00:45<00:00,  8.64it/s, loss=0.00649, acc=71.8]\n"
     ]
    },
    {
     "name": "stdout",
     "output_type": "stream",
     "text": [
      "Train Loss: 0.8297, Train Acc: 71.75%\n",
      "Val Loss: 0.7735, Val Acc: 72.41%\n",
      "\n",
      "Epoch 8/50\n"
     ]
    },
    {
     "name": "stderr",
     "output_type": "stream",
     "text": [
      "Training: 100%|██████████| 391/391 [00:41<00:00,  9.48it/s, loss=0.0061, acc=73.3] \n"
     ]
    },
    {
     "name": "stdout",
     "output_type": "stream",
     "text": [
      "Train Loss: 0.7806, Train Acc: 73.27%\n",
      "Val Loss: 0.7648, Val Acc: 73.56%\n",
      "\n",
      "Epoch 9/50\n"
     ]
    },
    {
     "name": "stderr",
     "output_type": "stream",
     "text": [
      "Training: 100%|██████████| 391/391 [01:09<00:00,  5.60it/s, loss=0.00579, acc=74.8]\n"
     ]
    },
    {
     "name": "stdout",
     "output_type": "stream",
     "text": [
      "Train Loss: 0.7402, Train Acc: 74.83%\n",
      "Val Loss: 0.7316, Val Acc: 74.81%\n",
      "\n",
      "Epoch 10/50\n"
     ]
    },
    {
     "name": "stderr",
     "output_type": "stream",
     "text": [
      "Training: 100%|██████████| 391/391 [01:04<00:00,  6.08it/s, loss=0.00557, acc=75.8]\n"
     ]
    },
    {
     "name": "stdout",
     "output_type": "stream",
     "text": [
      "Train Loss: 0.7127, Train Acc: 75.78%\n",
      "Val Loss: 0.6780, Val Acc: 76.68%\n",
      "\n",
      "Epoch 11/50\n"
     ]
    },
    {
     "name": "stderr",
     "output_type": "stream",
     "text": [
      "Training: 100%|██████████| 391/391 [00:49<00:00,  7.90it/s, loss=0.00529, acc=77.1]\n"
     ]
    },
    {
     "name": "stdout",
     "output_type": "stream",
     "text": [
      "Train Loss: 0.6763, Train Acc: 77.09%\n",
      "Val Loss: 0.6815, Val Acc: 76.76%\n",
      "\n",
      "Epoch 12/50\n"
     ]
    },
    {
     "name": "stderr",
     "output_type": "stream",
     "text": [
      "Training: 100%|██████████| 391/391 [00:46<00:00,  8.49it/s, loss=0.00512, acc=77.8]\n"
     ]
    },
    {
     "name": "stdout",
     "output_type": "stream",
     "text": [
      "Train Loss: 0.6553, Train Acc: 77.75%\n",
      "Val Loss: 0.6390, Val Acc: 77.98%\n",
      "\n",
      "Epoch 13/50\n"
     ]
    },
    {
     "name": "stderr",
     "output_type": "stream",
     "text": [
      "Training: 100%|██████████| 391/391 [00:57<00:00,  6.77it/s, loss=0.005, acc=78.5]  \n"
     ]
    },
    {
     "name": "stdout",
     "output_type": "stream",
     "text": [
      "Train Loss: 0.6393, Train Acc: 78.46%\n",
      "Val Loss: 0.6286, Val Acc: 78.61%\n",
      "\n",
      "Epoch 14/50\n"
     ]
    },
    {
     "name": "stderr",
     "output_type": "stream",
     "text": [
      "Training: 100%|██████████| 391/391 [00:59<00:00,  6.62it/s, loss=0.00487, acc=78.8]\n"
     ]
    },
    {
     "name": "stdout",
     "output_type": "stream",
     "text": [
      "Train Loss: 0.6224, Train Acc: 78.82%\n",
      "Val Loss: 0.6193, Val Acc: 78.79%\n",
      "\n",
      "Epoch 15/50\n"
     ]
    },
    {
     "name": "stderr",
     "output_type": "stream",
     "text": [
      "Training: 100%|██████████| 391/391 [01:32<00:00,  4.22it/s, loss=0.00476, acc=79.3]\n"
     ]
    },
    {
     "name": "stdout",
     "output_type": "stream",
     "text": [
      "Train Loss: 0.6091, Train Acc: 79.29%\n",
      "Val Loss: 0.6421, Val Acc: 78.04%\n",
      "\n",
      "Epoch 16/50\n"
     ]
    },
    {
     "name": "stderr",
     "output_type": "stream",
     "text": [
      "Training: 100%|██████████| 391/391 [01:20<00:00,  4.89it/s, loss=0.00456, acc=80.3]\n"
     ]
    },
    {
     "name": "stdout",
     "output_type": "stream",
     "text": [
      "Train Loss: 0.5832, Train Acc: 80.33%\n",
      "Val Loss: 0.5935, Val Acc: 79.31%\n",
      "\n",
      "Epoch 17/50\n"
     ]
    },
    {
     "name": "stderr",
     "output_type": "stream",
     "text": [
      "Training: 100%|██████████| 391/391 [01:06<00:00,  5.89it/s, loss=0.00447, acc=80.6]\n"
     ]
    },
    {
     "name": "stdout",
     "output_type": "stream",
     "text": [
      "Train Loss: 0.5712, Train Acc: 80.64%\n",
      "Val Loss: 0.6499, Val Acc: 77.74%\n",
      "\n",
      "Epoch 18/50\n"
     ]
    },
    {
     "name": "stderr",
     "output_type": "stream",
     "text": [
      "Training: 100%|██████████| 391/391 [00:48<00:00,  8.00it/s, loss=0.00438, acc=80.9]\n"
     ]
    },
    {
     "name": "stdout",
     "output_type": "stream",
     "text": [
      "Train Loss: 0.5603, Train Acc: 80.87%\n",
      "Val Loss: 0.5723, Val Acc: 80.13%\n",
      "\n",
      "Epoch 19/50\n"
     ]
    },
    {
     "name": "stderr",
     "output_type": "stream",
     "text": [
      "Training: 100%|██████████| 391/391 [01:07<00:00,  5.78it/s, loss=0.00437, acc=81.2]\n"
     ]
    },
    {
     "name": "stdout",
     "output_type": "stream",
     "text": [
      "Train Loss: 0.5586, Train Acc: 81.16%\n",
      "Val Loss: 0.5811, Val Acc: 80.39%\n",
      "\n",
      "Epoch 20/50\n"
     ]
    },
    {
     "name": "stderr",
     "output_type": "stream",
     "text": [
      "Training: 100%|██████████| 391/391 [01:21<00:00,  4.79it/s, loss=0.00417, acc=81.9]\n"
     ]
    },
    {
     "name": "stdout",
     "output_type": "stream",
     "text": [
      "Train Loss: 0.5335, Train Acc: 81.88%\n",
      "Val Loss: 0.5932, Val Acc: 80.34%\n",
      "\n",
      "Epoch 21/50\n"
     ]
    },
    {
     "name": "stderr",
     "output_type": "stream",
     "text": [
      "Training: 100%|██████████| 391/391 [00:52<00:00,  7.49it/s, loss=0.00415, acc=82.1]\n"
     ]
    },
    {
     "name": "stdout",
     "output_type": "stream",
     "text": [
      "Train Loss: 0.5312, Train Acc: 82.06%\n",
      "Val Loss: 0.5521, Val Acc: 81.16%\n",
      "\n",
      "Epoch 22/50\n"
     ]
    },
    {
     "name": "stderr",
     "output_type": "stream",
     "text": [
      "Training: 100%|██████████| 391/391 [00:41<00:00,  9.44it/s, loss=0.00403, acc=82.4]\n"
     ]
    },
    {
     "name": "stdout",
     "output_type": "stream",
     "text": [
      "Train Loss: 0.5149, Train Acc: 82.44%\n",
      "Val Loss: 0.5670, Val Acc: 80.69%\n",
      "\n",
      "Epoch 23/50\n"
     ]
    },
    {
     "name": "stderr",
     "output_type": "stream",
     "text": [
      "Training: 100%|██████████| 391/391 [00:43<00:00,  9.00it/s, loss=0.00399, acc=82.7]\n"
     ]
    },
    {
     "name": "stdout",
     "output_type": "stream",
     "text": [
      "Train Loss: 0.5104, Train Acc: 82.69%\n",
      "Val Loss: 0.5573, Val Acc: 80.96%\n",
      "\n",
      "Epoch 24/50\n"
     ]
    },
    {
     "name": "stderr",
     "output_type": "stream",
     "text": [
      "Training: 100%|██████████| 391/391 [00:53<00:00,  7.25it/s, loss=0.00396, acc=83.1]\n"
     ]
    },
    {
     "name": "stdout",
     "output_type": "stream",
     "text": [
      "Train Loss: 0.5061, Train Acc: 83.10%\n",
      "Val Loss: 0.5407, Val Acc: 81.84%\n",
      "\n",
      "Epoch 25/50\n"
     ]
    },
    {
     "name": "stderr",
     "output_type": "stream",
     "text": [
      "Training: 100%|██████████| 391/391 [00:55<00:00,  7.01it/s, loss=0.00392, acc=83.1]\n"
     ]
    },
    {
     "name": "stdout",
     "output_type": "stream",
     "text": [
      "Train Loss: 0.5007, Train Acc: 83.11%\n",
      "Val Loss: 0.5591, Val Acc: 81.02%\n",
      "\n",
      "Epoch 26/50\n"
     ]
    },
    {
     "name": "stderr",
     "output_type": "stream",
     "text": [
      "Training: 100%|██████████| 391/391 [00:40<00:00,  9.58it/s, loss=0.00386, acc=83.4]\n"
     ]
    },
    {
     "name": "stdout",
     "output_type": "stream",
     "text": [
      "Train Loss: 0.4932, Train Acc: 83.38%\n",
      "Val Loss: 0.5429, Val Acc: 81.37%\n",
      "\n",
      "Epoch 27/50\n"
     ]
    },
    {
     "name": "stderr",
     "output_type": "stream",
     "text": [
      "Training: 100%|██████████| 391/391 [00:45<00:00,  8.59it/s, loss=0.00371, acc=83.8]\n"
     ]
    },
    {
     "name": "stdout",
     "output_type": "stream",
     "text": [
      "Train Loss: 0.4741, Train Acc: 83.77%\n",
      "Val Loss: 0.5650, Val Acc: 81.02%\n",
      "\n",
      "Epoch 28/50\n"
     ]
    },
    {
     "name": "stderr",
     "output_type": "stream",
     "text": [
      "Training: 100%|██████████| 391/391 [00:51<00:00,  7.56it/s, loss=0.0037, acc=83.9] \n"
     ]
    },
    {
     "name": "stdout",
     "output_type": "stream",
     "text": [
      "Train Loss: 0.4731, Train Acc: 83.95%\n",
      "Val Loss: 0.5483, Val Acc: 82.04%\n",
      "\n",
      "Epoch 29/50\n"
     ]
    },
    {
     "name": "stderr",
     "output_type": "stream",
     "text": [
      "Training: 100%|██████████| 391/391 [00:43<00:00,  8.94it/s, loss=0.00365, acc=84.3]\n"
     ]
    },
    {
     "name": "stdout",
     "output_type": "stream",
     "text": [
      "Train Loss: 0.4671, Train Acc: 84.30%\n",
      "Val Loss: 0.5364, Val Acc: 82.05%\n",
      "\n",
      "Epoch 30/50\n"
     ]
    },
    {
     "name": "stderr",
     "output_type": "stream",
     "text": [
      "Training: 100%|██████████| 391/391 [00:57<00:00,  6.86it/s, loss=0.0036, acc=84.6] \n"
     ]
    },
    {
     "name": "stdout",
     "output_type": "stream",
     "text": [
      "Train Loss: 0.4599, Train Acc: 84.57%\n",
      "Val Loss: 0.5500, Val Acc: 81.51%\n",
      "\n",
      "Epoch 31/50\n"
     ]
    },
    {
     "name": "stderr",
     "output_type": "stream",
     "text": [
      "Training: 100%|██████████| 391/391 [00:54<00:00,  7.11it/s, loss=0.00359, acc=84.4]\n"
     ]
    },
    {
     "name": "stdout",
     "output_type": "stream",
     "text": [
      "Train Loss: 0.4586, Train Acc: 84.36%\n",
      "Val Loss: 0.5286, Val Acc: 82.46%\n",
      "\n",
      "Epoch 32/50\n"
     ]
    },
    {
     "name": "stderr",
     "output_type": "stream",
     "text": [
      "Training: 100%|██████████| 391/391 [00:53<00:00,  7.31it/s, loss=0.00347, acc=84.9]\n"
     ]
    },
    {
     "name": "stdout",
     "output_type": "stream",
     "text": [
      "Train Loss: 0.4435, Train Acc: 84.90%\n",
      "Val Loss: 0.5501, Val Acc: 81.97%\n",
      "\n",
      "Epoch 33/50\n"
     ]
    },
    {
     "name": "stderr",
     "output_type": "stream",
     "text": [
      "Training: 100%|██████████| 391/391 [00:48<00:00,  8.14it/s, loss=0.00351, acc=84.8]\n"
     ]
    },
    {
     "name": "stdout",
     "output_type": "stream",
     "text": [
      "Train Loss: 0.4487, Train Acc: 84.84%\n",
      "Val Loss: 0.5428, Val Acc: 82.11%\n",
      "\n",
      "Epoch 34/50\n"
     ]
    },
    {
     "name": "stderr",
     "output_type": "stream",
     "text": [
      "Training: 100%|██████████| 391/391 [00:47<00:00,  8.16it/s, loss=0.00346, acc=84.9]\n"
     ]
    },
    {
     "name": "stdout",
     "output_type": "stream",
     "text": [
      "Train Loss: 0.4428, Train Acc: 84.94%\n",
      "Val Loss: 0.5422, Val Acc: 81.84%\n",
      "\n",
      "Epoch 35/50\n"
     ]
    },
    {
     "name": "stderr",
     "output_type": "stream",
     "text": [
      "Training: 100%|██████████| 391/391 [00:55<00:00,  7.07it/s, loss=0.00343, acc=85.2]\n"
     ]
    },
    {
     "name": "stdout",
     "output_type": "stream",
     "text": [
      "Train Loss: 0.4381, Train Acc: 85.23%\n",
      "Val Loss: 0.5511, Val Acc: 81.93%\n",
      "\n",
      "Epoch 36/50\n"
     ]
    },
    {
     "name": "stderr",
     "output_type": "stream",
     "text": [
      "Training: 100%|██████████| 391/391 [00:47<00:00,  8.21it/s, loss=0.00337, acc=85.4]\n"
     ]
    },
    {
     "name": "stdout",
     "output_type": "stream",
     "text": [
      "Train Loss: 0.4305, Train Acc: 85.36%\n",
      "Val Loss: 0.5280, Val Acc: 82.03%\n",
      "\n",
      "Epoch 37/50\n"
     ]
    },
    {
     "name": "stderr",
     "output_type": "stream",
     "text": [
      "Training: 100%|██████████| 391/391 [00:50<00:00,  7.68it/s, loss=0.00337, acc=85.5]\n"
     ]
    },
    {
     "name": "stdout",
     "output_type": "stream",
     "text": [
      "Train Loss: 0.4315, Train Acc: 85.46%\n",
      "Val Loss: 0.5293, Val Acc: 82.48%\n",
      "\n",
      "Epoch 38/50\n"
     ]
    },
    {
     "name": "stderr",
     "output_type": "stream",
     "text": [
      "Training: 100%|██████████| 391/391 [00:58<00:00,  6.65it/s, loss=0.00328, acc=85.8]\n"
     ]
    },
    {
     "name": "stdout",
     "output_type": "stream",
     "text": [
      "Train Loss: 0.4199, Train Acc: 85.76%\n",
      "Val Loss: 0.5091, Val Acc: 83.35%\n",
      "\n",
      "Epoch 39/50\n"
     ]
    },
    {
     "name": "stderr",
     "output_type": "stream",
     "text": [
      "Training: 100%|██████████| 391/391 [00:50<00:00,  7.71it/s, loss=0.0033, acc=85.6] \n"
     ]
    },
    {
     "name": "stdout",
     "output_type": "stream",
     "text": [
      "Train Loss: 0.4223, Train Acc: 85.61%\n",
      "Val Loss: 0.5436, Val Acc: 82.57%\n",
      "\n",
      "Epoch 40/50\n"
     ]
    },
    {
     "name": "stderr",
     "output_type": "stream",
     "text": [
      "Training: 100%|██████████| 391/391 [00:47<00:00,  8.31it/s, loss=0.00329, acc=85.8]\n"
     ]
    },
    {
     "name": "stdout",
     "output_type": "stream",
     "text": [
      "Train Loss: 0.4207, Train Acc: 85.78%\n",
      "Val Loss: 0.5316, Val Acc: 82.73%\n",
      "\n",
      "Epoch 41/50\n"
     ]
    },
    {
     "name": "stderr",
     "output_type": "stream",
     "text": [
      "Training: 100%|██████████| 391/391 [01:08<00:00,  5.69it/s, loss=0.00325, acc=86]  \n"
     ]
    },
    {
     "name": "stdout",
     "output_type": "stream",
     "text": [
      "Train Loss: 0.4158, Train Acc: 86.01%\n",
      "Val Loss: 0.5407, Val Acc: 82.65%\n",
      "\n",
      "Epoch 42/50\n"
     ]
    },
    {
     "name": "stderr",
     "output_type": "stream",
     "text": [
      "Training: 100%|██████████| 391/391 [01:02<00:00,  6.23it/s, loss=0.00317, acc=86.4]\n"
     ]
    },
    {
     "name": "stdout",
     "output_type": "stream",
     "text": [
      "Train Loss: 0.4055, Train Acc: 86.45%\n",
      "Val Loss: 0.5330, Val Acc: 82.89%\n",
      "\n",
      "Epoch 43/50\n"
     ]
    },
    {
     "name": "stderr",
     "output_type": "stream",
     "text": [
      "Training: 100%|██████████| 391/391 [00:54<00:00,  7.14it/s, loss=0.00322, acc=86.2]\n"
     ]
    },
    {
     "name": "stdout",
     "output_type": "stream",
     "text": [
      "Train Loss: 0.4111, Train Acc: 86.22%\n",
      "Val Loss: 0.5588, Val Acc: 81.70%\n",
      "\n",
      "Epoch 44/50\n"
     ]
    },
    {
     "name": "stderr",
     "output_type": "stream",
     "text": [
      "Training: 100%|██████████| 391/391 [00:55<00:00,  7.07it/s, loss=0.00317, acc=86.6]\n"
     ]
    },
    {
     "name": "stdout",
     "output_type": "stream",
     "text": [
      "Learning rate changed from 0.001000 to 0.000500\n",
      "Train Loss: 0.4051, Train Acc: 86.61%\n",
      "Val Loss: 0.5331, Val Acc: 82.71%\n",
      "\n",
      "Epoch 45/50\n"
     ]
    },
    {
     "name": "stderr",
     "output_type": "stream",
     "text": [
      "Training: 100%|██████████| 391/391 [01:12<00:00,  5.41it/s, loss=0.00266, acc=88.5]\n"
     ]
    },
    {
     "name": "stdout",
     "output_type": "stream",
     "text": [
      "Train Loss: 0.3400, Train Acc: 88.49%\n",
      "Val Loss: 0.4922, Val Acc: 84.24%\n",
      "\n",
      "Epoch 46/50\n"
     ]
    },
    {
     "name": "stderr",
     "output_type": "stream",
     "text": [
      "Training: 100%|██████████| 391/391 [01:05<00:00,  5.96it/s, loss=0.00253, acc=89.1]\n"
     ]
    },
    {
     "name": "stdout",
     "output_type": "stream",
     "text": [
      "Train Loss: 0.3234, Train Acc: 89.13%\n",
      "Val Loss: 0.4893, Val Acc: 84.55%\n",
      "\n",
      "Epoch 47/50\n"
     ]
    },
    {
     "name": "stderr",
     "output_type": "stream",
     "text": [
      "Training: 100%|██████████| 391/391 [01:03<00:00,  6.18it/s, loss=0.00251, acc=89]  \n"
     ]
    },
    {
     "name": "stdout",
     "output_type": "stream",
     "text": [
      "Train Loss: 0.3215, Train Acc: 88.96%\n",
      "Val Loss: 0.4987, Val Acc: 84.45%\n",
      "\n",
      "Epoch 48/50\n"
     ]
    },
    {
     "name": "stderr",
     "output_type": "stream",
     "text": [
      "Training: 100%|██████████| 391/391 [01:19<00:00,  4.90it/s, loss=0.00243, acc=89.5]\n"
     ]
    },
    {
     "name": "stdout",
     "output_type": "stream",
     "text": [
      "Train Loss: 0.3110, Train Acc: 89.52%\n",
      "Val Loss: 0.5009, Val Acc: 84.36%\n",
      "\n",
      "Epoch 49/50\n"
     ]
    },
    {
     "name": "stderr",
     "output_type": "stream",
     "text": [
      "Training: 100%|██████████| 391/391 [00:54<00:00,  7.15it/s, loss=0.00241, acc=89.5]\n"
     ]
    },
    {
     "name": "stdout",
     "output_type": "stream",
     "text": [
      "Train Loss: 0.3083, Train Acc: 89.49%\n",
      "Val Loss: 0.4864, Val Acc: 84.72%\n",
      "\n",
      "Epoch 50/50\n"
     ]
    },
    {
     "name": "stderr",
     "output_type": "stream",
     "text": [
      "Training: 100%|██████████| 391/391 [00:59<00:00,  6.54it/s, loss=0.00232, acc=89.9]\n"
     ]
    },
    {
     "name": "stdout",
     "output_type": "stream",
     "text": [
      "Train Loss: 0.2961, Train Acc: 89.91%\n",
      "Val Loss: 0.4792, Val Acc: 85.10%\n"
     ]
    }
   ],
   "source": [
    "config = TrainingConfig()\n",
    "train(config)"
   ]
  }
 ],
 "metadata": {
  "kernelspec": {
   "display_name": "d2l",
   "language": "python",
   "name": "python3"
  },
  "language_info": {
   "codemirror_mode": {
    "name": "ipython",
    "version": 3
   },
   "file_extension": ".py",
   "mimetype": "text/x-python",
   "name": "python",
   "nbconvert_exporter": "python",
   "pygments_lexer": "ipython3",
   "version": "3.9.18"
  }
 },
 "nbformat": 4,
 "nbformat_minor": 2
}
